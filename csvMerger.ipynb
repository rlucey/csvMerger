{
 "cells": [
  {
   "cell_type": "markdown",
   "metadata": {},
   "source": [
    "**CSV MERGER**\n",
    "\n",
    "Purpose: To merge many CSV's with same date range of data together into one CSV.\n",
    "\n",
    "Author: Ronan Lucey\n",
    "\n",
    "Author Email: rml0018@uah.edu\n",
    "\n",
    "Date of Creation: January 18, 2019\n",
    "\n",
    "Date of Last Update: January 19, 2019\n"
   ]
  },
  {
   "cell_type": "markdown",
   "metadata": {},
   "source": [
    "Import the necessary dependencies for this operation, pandas and os. \n",
    "\n",
    "Change the directory to the folder where the CSV's are located."
   ]
  },
  {
   "cell_type": "code",
   "execution_count": null,
   "metadata": {
    "collapsed": true
   },
   "outputs": [],
   "source": [
    "#import necessary dependencies\n",
    "import pandas as pd\n",
    "import os\n",
    "\n",
    "#change directory to where the CSV's are\n",
    "os.chdir(r\"C:\\Users\\rlucey\\Desktop\\spring_19_work\\precip\\github_demo\")"
   ]
  },
  {
   "cell_type": "markdown",
   "metadata": {},
   "source": [
    "Create a list of dataframes, one dataframe for each of the CSV's.\n",
    "\n",
    "If time is your first column in the CSV, set that as the index using index_col=[0]. Set the header using the header tag, in this case it's the first row. Parse dates in the time column using parse_dates=[0]. \n",
    "\n",
    "The for loop repeats the read_csv for each CSV in the directory specified above."
   ]
  },
  {
   "cell_type": "code",
   "execution_count": null,
   "metadata": {
    "collapsed": true
   },
   "outputs": [],
   "source": [
    "#create a list of dataframes, one dataframe for each of the CSV's. Set time as index.\n",
    "dfs = [pd.read_csv(f, index_col=[0], header=0, parse_dates=[0])\n",
    "        for f in os.listdir(os.getcwd()) if f.endswith('csv')]"
   ]
  },
  {
   "cell_type": "markdown",
   "metadata": {},
   "source": [
    "The following box renames the columns with data in a chronological order going from 1 to however many CSV's you have in the folder.\n",
    "\n",
    "If each of your CSV's has different column names where the data is stored (e.g. avg1, avg2, avg3), then skip this step. If each of your CSV's has the same column names (e.g. avg, avg, avg), then run the box below. \n",
    "\n",
    "Modifications can be made to the naming convention in the first part of the df.columns [] loop."
   ]
  },
  {
   "cell_type": "code",
   "execution_count": null,
   "metadata": {
    "collapsed": true
   },
   "outputs": [],
   "source": [
    "#rename the columns to their field ID's so they are not all 'avg', but rather their Field ID\n",
    "for i, df in enumerate(dfs, 1):\n",
    "    df.columns = ['{}'.format(i) for col_name in df.columns]"
   ]
  },
  {
   "cell_type": "markdown",
   "metadata": {},
   "source": [
    "In the following box, one pandas dataframe is created from the list of dataframes by concatenating all of the dataframes in the list together. The dataframes are all concatenated horizontally. "
   ]
  },
  {
   "cell_type": "code",
   "execution_count": null,
   "metadata": {
    "collapsed": true
   },
   "outputs": [],
   "source": [
    "#create one dataframe that concatenates all the dataframes horizontally.\n",
    "dfFull = pd.concat(dfs, axis=1, join='inner').sort_index()"
   ]
  },
  {
   "cell_type": "markdown",
   "metadata": {},
   "source": [
    "To save the newly created dataframe with all of the data merged together as a CSV, run the box below and change the file path to the location in which you'd like to save the new CSV."
   ]
  },
  {
   "cell_type": "code",
   "execution_count": null,
   "metadata": {
    "collapsed": true
   },
   "outputs": [],
   "source": [
    "#save the full pandas dataframe as a new CSV\n",
    "dfFull.to_csv(r\"C:\\Users\\rlucey\\Desktop\\spring_19_work\\precip\\github_demo\\combined\\combined.csv\", sep=',')"
   ]
  }
 ],
 "metadata": {
  "kernelspec": {
   "display_name": "Python 3",
   "language": "python",
   "name": "python3"
  },
  "language_info": {
   "codemirror_mode": {
    "name": "ipython",
    "version": 3
   },
   "file_extension": ".py",
   "mimetype": "text/x-python",
   "name": "python",
   "nbconvert_exporter": "python",
   "pygments_lexer": "ipython3",
   "version": "3.6.3"
  }
 },
 "nbformat": 4,
 "nbformat_minor": 2
}
